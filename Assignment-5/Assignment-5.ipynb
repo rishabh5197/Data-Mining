{
 "cells": [
  {
   "cell_type": "markdown",
   "id": "working-madonna",
   "metadata": {},
   "source": [
    "# Name :- Rishabh Sharma\n",
    "# Registration Number :- 20MAI0082\n",
    "# Assignment - 5            \n",
    "# Web Mining"
   ]
  },
  {
   "cell_type": "markdown",
   "id": "approved-award",
   "metadata": {},
   "source": [
    "### Importing Libraries"
   ]
  },
  {
   "cell_type": "code",
   "execution_count": 1,
   "id": "abandoned-poetry",
   "metadata": {},
   "outputs": [],
   "source": [
    "import numpy as np\n",
    "import pandas as pd\n",
    "import matplotlib.pyplot as plt\n",
    "from bs4 import BeautifulSoup as bs\n",
    "import requests\n",
    "from warnings import filterwarnings\n",
    "filterwarnings(\"ignore\")"
   ]
  },
  {
   "cell_type": "markdown",
   "id": "offensive-orange",
   "metadata": {},
   "source": [
    "### Using Web Scraping to collect the data"
   ]
  },
  {
   "cell_type": "code",
   "execution_count": 2,
   "id": "sporting-mexico",
   "metadata": {},
   "outputs": [
    {
     "name": "stdout",
     "output_type": "stream",
     "text": [
      "https://www.flipkart.com/search?q=laptops&otracker=search&otracker1=search&marketplace=FLIPKART&as-show=on&as=off\n",
      "<Response [200]>\n"
     ]
    }
   ],
   "source": [
    "while True:\n",
    "    try:\n",
    "        link = 'https://www.flipkart.com/search?q=laptops&otracker=search&otracker1=search&marketplace=FLIPKART&as-show=on&as=off'\n",
    "        print(link)\n",
    "        page = requests.get(link)\n",
    "        print(page)\n",
    "        break\n",
    "    except:\n",
    "        pass"
   ]
  },
  {
   "cell_type": "code",
   "execution_count": 3,
   "id": "parliamentary-picking",
   "metadata": {},
   "outputs": [],
   "source": [
    "soup = bs(page.content,'html.parser')"
   ]
  },
  {
   "cell_type": "code",
   "execution_count": 4,
   "id": "bearing-dining",
   "metadata": {},
   "outputs": [],
   "source": [
    "# items = soup.find_all('div',class_=\"_4rR01T\")\n",
    "# items=[i.get_text() for i in items]\n",
    "# items = [i.split(\" - (\")[0] for i in items]"
   ]
  },
  {
   "cell_type": "code",
   "execution_count": 5,
   "id": "lesser-dodge",
   "metadata": {},
   "outputs": [],
   "source": [
    "details = soup.find_all(\"li\",class_=\"rgWa7D\")\n",
    "details = [i.get_text() for i in details]"
   ]
  },
  {
   "cell_type": "code",
   "execution_count": 6,
   "id": "wicked-organization",
   "metadata": {},
   "outputs": [],
   "source": [
    "lis,newlis=[],[]\n",
    "for i in details:\n",
    "    if (\"Intel \")in i or (\"AMD \") in i or (\"M1\") in i :\n",
    "        if newlis:\n",
    "            lis.append(newlis)\n",
    "            newlis=[]\n",
    "            newlis.append(i)\n",
    "        else:\n",
    "            newlis.append(i)\n",
    "    else:\n",
    "        newlis.append(i)\n",
    "newlisnew=[]\n",
    "for i in lis:\n",
    "    newlisnew.append(\" \".join(i))"
   ]
  },
  {
   "cell_type": "code",
   "execution_count": 7,
   "id": "nervous-tonight",
   "metadata": {},
   "outputs": [],
   "source": [
    "items = []\n",
    "for i in newlisnew:\n",
    "    if ' GB DDR4' in i:\n",
    "         items.append(i.split(\" GB DDR4\")[0][:-2])\n",
    "    elif ' GB DDR3' in i:\n",
    "        items.append(i.split(\" GB DDR3\")[0][:-2] )\n",
    "    elif ' GB LPDDR4X' in i:\n",
    "        items.append(i.split(\" GB LPDDR4X\")[0][:-2] )\n",
    "    else:\n",
    "        items.append(\"\")\n",
    "company = [i.split()[0] for i in items]"
   ]
  },
  {
   "cell_type": "code",
   "execution_count": 8,
   "id": "bizarre-filename",
   "metadata": {},
   "outputs": [],
   "source": [
    "pages= soup.find_all('a',class_='ge-49M',href=True)\n",
    "pages = [str(i).split(\">\")[0][31:] for i in pages ]"
   ]
  },
  {
   "cell_type": "code",
   "execution_count": 9,
   "id": "according-accessory",
   "metadata": {},
   "outputs": [],
   "source": [
    "ratings = soup.find_all(\"div\",class_='_3LWZlK')\n",
    "ratings = [i.get_text() for i in ratings]"
   ]
  },
  {
   "cell_type": "code",
   "execution_count": 10,
   "id": "mediterranean-number",
   "metadata": {},
   "outputs": [],
   "source": [
    "prices =  soup.find_all(\"div\",class_=\"_30jeq3 _1_WHN1\")\n",
    "prices = [i.get_text().replace(\"₹\",\"\").replace(\",\",\"\") for i in prices]"
   ]
  },
  {
   "cell_type": "code",
   "execution_count": 11,
   "id": "vanilla-timing",
   "metadata": {},
   "outputs": [],
   "source": [
    "# details = soup.find_all(\"li\",class_=\"rgWa7D\")\n",
    "# details = [i.get_text() for i in details]"
   ]
  },
  {
   "cell_type": "code",
   "execution_count": 12,
   "id": "posted-recorder",
   "metadata": {},
   "outputs": [],
   "source": [
    "# indepth_link = soup.find_all(\"a\",class_ = '_1fQZEK')"
   ]
  },
  {
   "cell_type": "code",
   "execution_count": 13,
   "id": "yellow-blade",
   "metadata": {},
   "outputs": [],
   "source": [
    "# start= str(indepth_link[0]).index(\"href=\")\n",
    "# end = str(indepth_link[0]).index(\" rel=\")\n",
    "# links = ['https://www.flipkart.com'+str(str(i)[start+6:end-1]) for i in indepth_link]"
   ]
  },
  {
   "cell_type": "code",
   "execution_count": 14,
   "id": "aerial-illinois",
   "metadata": {},
   "outputs": [],
   "source": [
    "lis,newlis=[],[]\n",
    "for i in details:\n",
    "    if (\"Intel \")in i or (\"AMD \") in i or (\"M1\") in i :\n",
    "        if newlis:\n",
    "            lis.append(newlis)\n",
    "            newlis=[]\n",
    "            newlis.append(i)\n",
    "        else:\n",
    "            newlis.append(i)\n",
    "    else:\n",
    "        newlis.append(i)\n",
    "newlisnew=[]\n",
    "for i in lis:\n",
    "    newlisnew.append(\" \".join(i))"
   ]
  },
  {
   "cell_type": "markdown",
   "id": "every-lobby",
   "metadata": {},
   "source": [
    "### Collecting data and filtering everything"
   ]
  },
  {
   "cell_type": "code",
   "execution_count": 15,
   "id": "suburban-eugene",
   "metadata": {},
   "outputs": [],
   "source": [
    "processor_brand=[]\n",
    "processor = []\n",
    "ram = []\n",
    "ram_type=[]\n",
    "os =[]\n",
    "screen_size=[]\n",
    "ssd_present=[]\n",
    "ssd_capacity=[]\n",
    "hdd_capacity=[]\n",
    "# count=0\n",
    "for i in newlisnew:\n",
    "    if \"Intel \" in i:\n",
    "#         print(count)\n",
    "        processor_brand.append(\"Intel\")\n",
    "        processor.append(i.split()[1]+\" \"+i.split()[2])\n",
    "    elif 'AMD' in i:\n",
    "#         print(count)\n",
    "        processor_brand.append(\"AMD\")\n",
    "        processor.append(i.split()[1]+\" \"+i.split()[2])\n",
    "    elif \"M1\" in i:\n",
    "#         print(count)\n",
    "        processor_brand.append(\"M1\")\n",
    "        processor.append(i.split()[1]+\" \"+i.split()[2])\n",
    "    else:\n",
    "        processor_brand.append(\"\")\n",
    "        processor.append(\"\")\n",
    "#     count+=1\n",
    "    if ' GB DDR4 RAM' in i:\n",
    "        index = i.index(' GB DDR4 RAM')\n",
    "        ram.append(i[index-2:index])\n",
    "        ram_type.append(\"DDR4\")\n",
    "    elif  ' GB DDR3' in i:\n",
    "        index = i.index(' GB DDR3 RAM')\n",
    "        ram.append(i[index-2:index])\n",
    "        ram_type.append(\"DDR3\")\n",
    "    else:\n",
    "        ram.append(\"\")\n",
    "    if ' Operating System' in i:\n",
    "        a = i.split()\n",
    "        index = a.index(\"Operating\")\n",
    "        if a[index-1]==\"10\":\n",
    "                os.append(\"Windows 10\")\n",
    "        elif a[index-2]=='Mac':\n",
    "            os.append(\"Mac Os\")\n",
    "        else:\n",
    "            os.append(a[index-1])\n",
    "    else:\n",
    "        os.append(\"\")\n",
    "    if \"inch\" in i:\n",
    "        a = i.split()\n",
    "        if 'inches)' in a:\n",
    "            index = a.index(\"inches)\")\n",
    "        else:\n",
    "            index = a.index(\"inch)\")\n",
    "        screen_size.append(a[index-1].strip(\"(\")+\" inch\")\n",
    "    if (\" GB SSD\" in i) or (\" TB SSD\" in i):\n",
    "        ssd_present.append(\"Yes\")\n",
    "        if \" GB SSD\" in i:\n",
    "            start = i.index(\" GB SSD\")-3\n",
    "            end=i.index(\" GB SSD\")\n",
    "            ssd_capacity.append(i[start:end])\n",
    "        elif' TB SSD' in i:\n",
    "            index = i.index(\" TB SSD\")\n",
    "            ssd_capacity.append(int(i[index-1])*1024)\n",
    "    else:\n",
    "        ssd_present.append(\"No\")\n",
    "        ssd_capacity.append(\"\")\n",
    "    if \" HDD\" in i:\n",
    "        index = i.index(\" HDD\")\n",
    "        hdd_capacity.append(i[index-4])\n",
    "    else:\n",
    "        hdd_capacity.append(\"\")"
   ]
  },
  {
   "cell_type": "markdown",
   "id": "consistent-rubber",
   "metadata": {},
   "source": [
    "### Creating a dataframe in order to carry out further steps"
   ]
  },
  {
   "cell_type": "code",
   "execution_count": 16,
   "id": "combined-plate",
   "metadata": {},
   "outputs": [],
   "source": [
    "data = pd.DataFrame({\n",
    "'items':items[:len(processor)],                                       # Name of Laptop\n",
    "'company':company[:len(processor)],                              # Company of laptop  (or Laptop belongs to which company)                       (Categorical)\n",
    "'ratings out of 5':ratings[:len(processor)],                     # What are the rating mentioned overall to the device  (continous)\n",
    "'prices':prices[:len(processor)],                                     # Price of the laptop                                                       (continous)\n",
    "'processor_brand':processor_brand,                             # what is the processor of the laptop this will be categorical as Intel or AMD (Categorical)\n",
    "'processor':processor,                                                   # Type of processor of the laptop (Categorical)\n",
    "'ram':ram ,                                                                     # how much ram does it have (Categorical)\n",
    "'ram_type':ram_type,                                                    # what is the type of ram (Categorical)\n",
    "'operating_system' :os,                                                  # consist of which operating system by default (Categorical)\n",
    "'screen_size':screen_size,                                             # Screen-size of the laptop (Categorical)\n",
    "'ssd_present':ssd_present,                                            # is SSD present in the laptop (Categorical)\n",
    "'ssd_capacity':ssd_capacity,                                          # What is the capacity of the SSD (continous)\n",
    "'hdd_capacity_in_TB':hdd_capacity,                              # What is the capacity of HDD (Categorical)\n",
    "'Purchased': [np.random.choice([\"No\",\"Yes\"]) for i in range(0,len(processor))]})   # this is generated randomly whether the customer will buy a laptop or not.\n",
    "data.to_csv(\"Dataset.csv\",index=False)                                                                    # Storing data into csv file"
   ]
  },
  {
   "cell_type": "code",
   "execution_count": 17,
   "id": "personal-badge",
   "metadata": {},
   "outputs": [
    {
     "data": {
      "text/plain": [
       "(23, 14)"
      ]
     },
     "execution_count": 17,
     "metadata": {},
     "output_type": "execute_result"
    }
   ],
   "source": [
    "data.shape"
   ]
  },
  {
   "cell_type": "code",
   "execution_count": 18,
   "id": "engaged-flash",
   "metadata": {},
   "outputs": [],
   "source": [
    "data =data.replace(\"\",np.nan)"
   ]
  },
  {
   "cell_type": "code",
   "execution_count": 19,
   "id": "starting-section",
   "metadata": {},
   "outputs": [
    {
     "data": {
      "text/html": [
       "<div>\n",
       "<style scoped>\n",
       "    .dataframe tbody tr th:only-of-type {\n",
       "        vertical-align: middle;\n",
       "    }\n",
       "\n",
       "    .dataframe tbody tr th {\n",
       "        vertical-align: top;\n",
       "    }\n",
       "\n",
       "    .dataframe thead th {\n",
       "        text-align: right;\n",
       "    }\n",
       "</style>\n",
       "<table border=\"1\" class=\"dataframe\">\n",
       "  <thead>\n",
       "    <tr style=\"text-align: right;\">\n",
       "      <th></th>\n",
       "      <th>items</th>\n",
       "      <th>company</th>\n",
       "      <th>ratings out of 5</th>\n",
       "      <th>prices</th>\n",
       "      <th>processor_brand</th>\n",
       "      <th>processor</th>\n",
       "      <th>ram</th>\n",
       "      <th>ram_type</th>\n",
       "      <th>operating_system</th>\n",
       "      <th>screen_size</th>\n",
       "      <th>ssd_present</th>\n",
       "      <th>ssd_capacity</th>\n",
       "      <th>hdd_capacity_in_TB</th>\n",
       "      <th>Purchased</th>\n",
       "    </tr>\n",
       "  </thead>\n",
       "  <tbody>\n",
       "    <tr>\n",
       "      <th>0</th>\n",
       "      <td>AMD Ryzen 5 Quad Core Processor (3rd Gen)</td>\n",
       "      <td>AMD</td>\n",
       "      <td>4.4</td>\n",
       "      <td>48990</td>\n",
       "      <td>AMD</td>\n",
       "      <td>Ryzen 5</td>\n",
       "      <td>8</td>\n",
       "      <td>DDR4</td>\n",
       "      <td>Windows 10</td>\n",
       "      <td>14 inch</td>\n",
       "      <td>Yes</td>\n",
       "      <td>256</td>\n",
       "      <td>1</td>\n",
       "      <td>Yes</td>\n",
       "    </tr>\n",
       "    <tr>\n",
       "      <th>1</th>\n",
       "      <td>Intel Core i3 Processor (10th Gen)</td>\n",
       "      <td>Intel</td>\n",
       "      <td>4</td>\n",
       "      <td>35990</td>\n",
       "      <td>Intel</td>\n",
       "      <td>Core i3</td>\n",
       "      <td>8</td>\n",
       "      <td>DDR4</td>\n",
       "      <td>Windows 10</td>\n",
       "      <td>15.6 inch</td>\n",
       "      <td>Yes</td>\n",
       "      <td>256</td>\n",
       "      <td>NaN</td>\n",
       "      <td>No</td>\n",
       "    </tr>\n",
       "    <tr>\n",
       "      <th>2</th>\n",
       "      <td>Intel Core i5 Processor (9th Gen)</td>\n",
       "      <td>Intel</td>\n",
       "      <td>4.5</td>\n",
       "      <td>52990</td>\n",
       "      <td>Intel</td>\n",
       "      <td>Core i5</td>\n",
       "      <td>8</td>\n",
       "      <td>DDR4</td>\n",
       "      <td>Windows 10</td>\n",
       "      <td>15.6 inch</td>\n",
       "      <td>Yes</td>\n",
       "      <td>512</td>\n",
       "      <td>NaN</td>\n",
       "      <td>No</td>\n",
       "    </tr>\n",
       "    <tr>\n",
       "      <th>3</th>\n",
       "      <td>Intel Core i3 Processor (10th Gen)</td>\n",
       "      <td>Intel</td>\n",
       "      <td>4.2</td>\n",
       "      <td>33490</td>\n",
       "      <td>Intel</td>\n",
       "      <td>Core i3</td>\n",
       "      <td>4</td>\n",
       "      <td>DDR4</td>\n",
       "      <td>Windows 10</td>\n",
       "      <td>15.6 inch</td>\n",
       "      <td>Yes</td>\n",
       "      <td>256</td>\n",
       "      <td>NaN</td>\n",
       "      <td>Yes</td>\n",
       "    </tr>\n",
       "    <tr>\n",
       "      <th>4</th>\n",
       "      <td>Intel Core i3 Processor (10th Gen)</td>\n",
       "      <td>Intel</td>\n",
       "      <td>4.2</td>\n",
       "      <td>35990</td>\n",
       "      <td>Intel</td>\n",
       "      <td>Core i3</td>\n",
       "      <td>8</td>\n",
       "      <td>DDR4</td>\n",
       "      <td>Windows 10</td>\n",
       "      <td>14 inch</td>\n",
       "      <td>Yes</td>\n",
       "      <td>256</td>\n",
       "      <td>NaN</td>\n",
       "      <td>No</td>\n",
       "    </tr>\n",
       "  </tbody>\n",
       "</table>\n",
       "</div>"
      ],
      "text/plain": [
       "                                       items company ratings out of 5 prices  \\\n",
       "0  AMD Ryzen 5 Quad Core Processor (3rd Gen)     AMD              4.4  48990   \n",
       "1         Intel Core i3 Processor (10th Gen)   Intel                4  35990   \n",
       "2          Intel Core i5 Processor (9th Gen)   Intel              4.5  52990   \n",
       "3         Intel Core i3 Processor (10th Gen)   Intel              4.2  33490   \n",
       "4         Intel Core i3 Processor (10th Gen)   Intel              4.2  35990   \n",
       "\n",
       "  processor_brand processor ram ram_type operating_system screen_size  \\\n",
       "0             AMD   Ryzen 5   8     DDR4       Windows 10     14 inch   \n",
       "1           Intel   Core i3   8     DDR4       Windows 10   15.6 inch   \n",
       "2           Intel   Core i5   8     DDR4       Windows 10   15.6 inch   \n",
       "3           Intel   Core i3   4     DDR4       Windows 10   15.6 inch   \n",
       "4           Intel   Core i3   8     DDR4       Windows 10     14 inch   \n",
       "\n",
       "  ssd_present ssd_capacity hdd_capacity_in_TB Purchased  \n",
       "0         Yes          256                  1       Yes  \n",
       "1         Yes          256                NaN        No  \n",
       "2         Yes          512                NaN        No  \n",
       "3         Yes          256                NaN       Yes  \n",
       "4         Yes          256                NaN        No  "
      ]
     },
     "execution_count": 19,
     "metadata": {},
     "output_type": "execute_result"
    }
   ],
   "source": [
    "data.head()"
   ]
  },
  {
   "cell_type": "code",
   "execution_count": 20,
   "id": "lesbian-fifty",
   "metadata": {},
   "outputs": [
    {
     "data": {
      "text/plain": [
       "items                  0\n",
       "company                0\n",
       "ratings out of 5       0\n",
       "prices                 0\n",
       "processor_brand        0\n",
       "processor              0\n",
       "ram                    0\n",
       "ram_type               0\n",
       "operating_system       0\n",
       "screen_size            0\n",
       "ssd_present            0\n",
       "ssd_capacity           4\n",
       "hdd_capacity_in_TB    14\n",
       "Purchased              0\n",
       "dtype: int64"
      ]
     },
     "execution_count": 20,
     "metadata": {},
     "output_type": "execute_result"
    }
   ],
   "source": [
    "data.isnull().sum()"
   ]
  },
  {
   "cell_type": "markdown",
   "id": "sixth-taiwan",
   "metadata": {},
   "source": [
    "### Filling null values"
   ]
  },
  {
   "cell_type": "code",
   "execution_count": 21,
   "id": "difficult-renaissance",
   "metadata": {},
   "outputs": [
    {
     "data": {
      "text/html": [
       "<div>\n",
       "<style scoped>\n",
       "    .dataframe tbody tr th:only-of-type {\n",
       "        vertical-align: middle;\n",
       "    }\n",
       "\n",
       "    .dataframe tbody tr th {\n",
       "        vertical-align: top;\n",
       "    }\n",
       "\n",
       "    .dataframe thead th {\n",
       "        text-align: right;\n",
       "    }\n",
       "</style>\n",
       "<table border=\"1\" class=\"dataframe\">\n",
       "  <thead>\n",
       "    <tr style=\"text-align: right;\">\n",
       "      <th></th>\n",
       "      <th>items</th>\n",
       "      <th>company</th>\n",
       "      <th>ratings out of 5</th>\n",
       "      <th>prices</th>\n",
       "      <th>processor_brand</th>\n",
       "      <th>processor</th>\n",
       "      <th>ram</th>\n",
       "      <th>ram_type</th>\n",
       "      <th>operating_system</th>\n",
       "      <th>screen_size</th>\n",
       "      <th>ssd_present</th>\n",
       "      <th>ssd_capacity</th>\n",
       "      <th>hdd_capacity_in_TB</th>\n",
       "      <th>Purchased</th>\n",
       "    </tr>\n",
       "  </thead>\n",
       "  <tbody>\n",
       "    <tr>\n",
       "      <th>0</th>\n",
       "      <td>AMD Ryzen 5 Quad Core Processor (3rd Gen)</td>\n",
       "      <td>AMD</td>\n",
       "      <td>4.4</td>\n",
       "      <td>48990</td>\n",
       "      <td>AMD</td>\n",
       "      <td>Ryzen 5</td>\n",
       "      <td>8</td>\n",
       "      <td>DDR4</td>\n",
       "      <td>Windows 10</td>\n",
       "      <td>14 inch</td>\n",
       "      <td>Yes</td>\n",
       "      <td>256</td>\n",
       "      <td>1</td>\n",
       "      <td>Yes</td>\n",
       "    </tr>\n",
       "    <tr>\n",
       "      <th>1</th>\n",
       "      <td>Intel Core i3 Processor (10th Gen)</td>\n",
       "      <td>Intel</td>\n",
       "      <td>4</td>\n",
       "      <td>35990</td>\n",
       "      <td>Intel</td>\n",
       "      <td>Core i3</td>\n",
       "      <td>8</td>\n",
       "      <td>DDR4</td>\n",
       "      <td>Windows 10</td>\n",
       "      <td>15.6 inch</td>\n",
       "      <td>Yes</td>\n",
       "      <td>256</td>\n",
       "      <td>0</td>\n",
       "      <td>No</td>\n",
       "    </tr>\n",
       "    <tr>\n",
       "      <th>2</th>\n",
       "      <td>Intel Core i5 Processor (9th Gen)</td>\n",
       "      <td>Intel</td>\n",
       "      <td>4.5</td>\n",
       "      <td>52990</td>\n",
       "      <td>Intel</td>\n",
       "      <td>Core i5</td>\n",
       "      <td>8</td>\n",
       "      <td>DDR4</td>\n",
       "      <td>Windows 10</td>\n",
       "      <td>15.6 inch</td>\n",
       "      <td>Yes</td>\n",
       "      <td>512</td>\n",
       "      <td>0</td>\n",
       "      <td>No</td>\n",
       "    </tr>\n",
       "    <tr>\n",
       "      <th>3</th>\n",
       "      <td>Intel Core i3 Processor (10th Gen)</td>\n",
       "      <td>Intel</td>\n",
       "      <td>4.2</td>\n",
       "      <td>33490</td>\n",
       "      <td>Intel</td>\n",
       "      <td>Core i3</td>\n",
       "      <td>4</td>\n",
       "      <td>DDR4</td>\n",
       "      <td>Windows 10</td>\n",
       "      <td>15.6 inch</td>\n",
       "      <td>Yes</td>\n",
       "      <td>256</td>\n",
       "      <td>0</td>\n",
       "      <td>Yes</td>\n",
       "    </tr>\n",
       "    <tr>\n",
       "      <th>4</th>\n",
       "      <td>Intel Core i3 Processor (10th Gen)</td>\n",
       "      <td>Intel</td>\n",
       "      <td>4.2</td>\n",
       "      <td>35990</td>\n",
       "      <td>Intel</td>\n",
       "      <td>Core i3</td>\n",
       "      <td>8</td>\n",
       "      <td>DDR4</td>\n",
       "      <td>Windows 10</td>\n",
       "      <td>14 inch</td>\n",
       "      <td>Yes</td>\n",
       "      <td>256</td>\n",
       "      <td>0</td>\n",
       "      <td>No</td>\n",
       "    </tr>\n",
       "  </tbody>\n",
       "</table>\n",
       "</div>"
      ],
      "text/plain": [
       "                                       items company ratings out of 5 prices  \\\n",
       "0  AMD Ryzen 5 Quad Core Processor (3rd Gen)     AMD              4.4  48990   \n",
       "1         Intel Core i3 Processor (10th Gen)   Intel                4  35990   \n",
       "2          Intel Core i5 Processor (9th Gen)   Intel              4.5  52990   \n",
       "3         Intel Core i3 Processor (10th Gen)   Intel              4.2  33490   \n",
       "4         Intel Core i3 Processor (10th Gen)   Intel              4.2  35990   \n",
       "\n",
       "  processor_brand processor ram ram_type operating_system screen_size  \\\n",
       "0             AMD   Ryzen 5   8     DDR4       Windows 10     14 inch   \n",
       "1           Intel   Core i3   8     DDR4       Windows 10   15.6 inch   \n",
       "2           Intel   Core i5   8     DDR4       Windows 10   15.6 inch   \n",
       "3           Intel   Core i3   4     DDR4       Windows 10   15.6 inch   \n",
       "4           Intel   Core i3   8     DDR4       Windows 10     14 inch   \n",
       "\n",
       "  ssd_present ssd_capacity hdd_capacity_in_TB Purchased  \n",
       "0         Yes          256                  1       Yes  \n",
       "1         Yes          256                  0        No  \n",
       "2         Yes          512                  0        No  \n",
       "3         Yes          256                  0       Yes  \n",
       "4         Yes          256                  0        No  "
      ]
     },
     "execution_count": 21,
     "metadata": {},
     "output_type": "execute_result"
    }
   ],
   "source": [
    "data = data.replace(np.nan,0)\n",
    "data.head()"
   ]
  }
 ],
 "metadata": {
  "kernelspec": {
   "display_name": "Python 3",
   "language": "python",
   "name": "python3"
  },
  "language_info": {
   "codemirror_mode": {
    "name": "ipython",
    "version": 3
   },
   "file_extension": ".py",
   "mimetype": "text/x-python",
   "name": "python",
   "nbconvert_exporter": "python",
   "pygments_lexer": "ipython3",
   "version": "3.8.5"
  }
 },
 "nbformat": 4,
 "nbformat_minor": 5
}
