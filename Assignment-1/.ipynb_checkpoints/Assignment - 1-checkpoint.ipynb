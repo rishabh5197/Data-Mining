{
 "cells": [
  {
   "cell_type": "markdown",
   "id": "incoming-attraction",
   "metadata": {},
   "source": [
    "# Tuples"
   ]
  },
  {
   "cell_type": "code",
   "execution_count": 1,
   "id": "sorted-slovakia",
   "metadata": {},
   "outputs": [
    {
     "name": "stdout",
     "output_type": "stream",
     "text": [
      "('ABC', 2, 3, 'DEF', 99)\n"
     ]
    }
   ],
   "source": [
    "# it supports only creation and reading of tuple and its element\n",
    "\n",
    "a=(\"ABC\",2,3,\"DEF\",99)\n",
    "print(a)"
   ]
  },
  {
   "cell_type": "code",
   "execution_count": 2,
   "id": "fundamental-space",
   "metadata": {},
   "outputs": [
    {
     "name": "stdout",
     "output_type": "stream",
     "text": [
      "Printing type of a :- \n",
      " <class 'tuple'>\n"
     ]
    }
   ],
   "source": [
    "print(\"Printing type of a :- \\n\",type(a))"
   ]
  },
  {
   "cell_type": "code",
   "execution_count": 3,
   "id": "brazilian-while",
   "metadata": {},
   "outputs": [
    {
     "name": "stdout",
     "output_type": "stream",
     "text": [
      "Printing length of a :- \n",
      " 5\n"
     ]
    }
   ],
   "source": [
    "print(\"Printing length of a :- \\n\",len(a))"
   ]
  },
  {
   "cell_type": "code",
   "execution_count": 4,
   "id": "synthetic-korea",
   "metadata": {},
   "outputs": [
    {
     "name": "stdout",
     "output_type": "stream",
     "text": [
      "Printing index at 1 of a :- \n",
      " 2\n"
     ]
    }
   ],
   "source": [
    "print(\"Printing index at 1 of a :- \\n\",a[1])"
   ]
  },
  {
   "cell_type": "code",
   "execution_count": 5,
   "id": "impressive-america",
   "metadata": {},
   "outputs": [
    {
     "name": "stdout",
     "output_type": "stream",
     "text": [
      "Printing index at -1 of a :- \n",
      " 99\n"
     ]
    }
   ],
   "source": [
    "print(\"Printing index at -1 of a :- \\n\",a[-1])"
   ]
  },
  {
   "cell_type": "code",
   "execution_count": 6,
   "id": "egyptian-pride",
   "metadata": {},
   "outputs": [
    {
     "name": "stdout",
     "output_type": "stream",
     "text": [
      "Printing Slicing from 2 to 4 of a :- \n",
      " (3, 'DEF')\n"
     ]
    }
   ],
   "source": [
    "print(\"Printing Slicing from 2 to 4 of a :- \\n\",a[2:4])"
   ]
  },
  {
   "cell_type": "code",
   "execution_count": 7,
   "id": "sought-wedding",
   "metadata": {},
   "outputs": [
    {
     "name": "stdout",
     "output_type": "stream",
     "text": [
      "Printing Slicing from -4 to -2 of a :- \n",
      " (2, 3)\n"
     ]
    }
   ],
   "source": [
    "print(\"Printing Slicing from -4 to -2 of a :- \\n\",a[-4:-2])"
   ]
  },
  {
   "cell_type": "code",
   "execution_count": 8,
   "id": "protected-gauge",
   "metadata": {},
   "outputs": [],
   "source": [
    "b=a[3]"
   ]
  },
  {
   "cell_type": "code",
   "execution_count": 9,
   "id": "narrative-president",
   "metadata": {},
   "outputs": [
    {
     "name": "stdout",
     "output_type": "stream",
     "text": [
      "Storing value into a variable and then printing it \n",
      " DEF\n"
     ]
    }
   ],
   "source": [
    "print(\"Storing value into a variable and then printing it \\n\",b)"
   ]
  },
  {
   "cell_type": "code",
   "execution_count": 10,
   "id": "polyphonic-plastic",
   "metadata": {},
   "outputs": [
    {
     "name": "stdout",
     "output_type": "stream",
     "text": [
      "Max of new tuple c\n",
      " 1000\n",
      "Max of new tuple c\n",
      " 7\n"
     ]
    }
   ],
   "source": [
    "c=(99,25,18,28,35,650,1000,456,7,89,35)\n",
    "print(\"Max of new tuple c\\n\",max(c))\n",
    "print(\"Max of new tuple c\\n\",min(c))"
   ]
  },
  {
   "cell_type": "code",
   "execution_count": 11,
   "id": "classical-going",
   "metadata": {},
   "outputs": [
    {
     "name": "stdout",
     "output_type": "stream",
     "text": [
      "ABC\n",
      "2\n",
      "3\n",
      "DEF\n",
      "99\n"
     ]
    }
   ],
   "source": [
    "a=(\"ABC\",2,3,\"DEF\",99)\n",
    "for i in a:\n",
    "     print(i)"
   ]
  },
  {
   "cell_type": "code",
   "execution_count": 12,
   "id": "urban-retention",
   "metadata": {},
   "outputs": [
    {
     "name": "stdout",
     "output_type": "stream",
     "text": [
      "0 ABC\n",
      "1 2\n",
      "2 3\n",
      "3 DEF\n",
      "4 99\n"
     ]
    }
   ],
   "source": [
    "for i in range(len(a)):\n",
    "    print(i,a[i])"
   ]
  },
  {
   "cell_type": "code",
   "execution_count": 13,
   "id": "sophisticated-kinase",
   "metadata": {},
   "outputs": [
    {
     "name": "stdout",
     "output_type": "stream",
     "text": [
      "0 ABC\n",
      "1 2\n",
      "2 3\n",
      "3 DEF\n",
      "4 99\n"
     ]
    }
   ],
   "source": [
    "for i,x in enumerate(a):\n",
    "    print(i,x)"
   ]
  },
  {
   "cell_type": "markdown",
   "id": "cooked-kinase",
   "metadata": {},
   "source": [
    "# Sets"
   ]
  },
  {
   "cell_type": "code",
   "execution_count": 14,
   "id": "rocky-fight",
   "metadata": {},
   "outputs": [
    {
     "name": "stdout",
     "output_type": "stream",
     "text": [
      "<class 'set'>\n",
      "4\n"
     ]
    }
   ],
   "source": [
    "a={1,2,3,4}\n",
    "print(type(a))\n",
    "print(len(a))"
   ]
  },
  {
   "cell_type": "code",
   "execution_count": 15,
   "id": "hairy-looking",
   "metadata": {},
   "outputs": [
    {
     "name": "stdout",
     "output_type": "stream",
     "text": [
      "<class 'set'>\n"
     ]
    }
   ],
   "source": [
    "b=set()\n",
    "print(type(b))"
   ]
  },
  {
   "cell_type": "code",
   "execution_count": 16,
   "id": "extreme-speaking",
   "metadata": {},
   "outputs": [
    {
     "name": "stdout",
     "output_type": "stream",
     "text": [
      "{1, 2, 3}\n"
     ]
    }
   ],
   "source": [
    "c=set((1,2,3))\n",
    "print(c)"
   ]
  },
  {
   "cell_type": "code",
   "execution_count": 17,
   "id": "cosmetic-monitor",
   "metadata": {},
   "outputs": [
    {
     "name": "stdout",
     "output_type": "stream",
     "text": [
      "{1, 2, 3}\n"
     ]
    }
   ],
   "source": [
    "d=set([1,2,3])\n",
    "print(d)"
   ]
  },
  {
   "cell_type": "markdown",
   "id": "whole-saying",
   "metadata": {},
   "source": [
    "# List"
   ]
  },
  {
   "cell_type": "code",
   "execution_count": 18,
   "id": "introductory-charger",
   "metadata": {},
   "outputs": [
    {
     "name": "stdout",
     "output_type": "stream",
     "text": [
      "<class 'list'>\n",
      "[1, 2, 3, 'ABC']\n",
      "4\n"
     ]
    }
   ],
   "source": [
    "a=[1,2,3,\"ABC\"]\n",
    "print(type(a))\n",
    "print(a)\n",
    "print(len(a))"
   ]
  },
  {
   "cell_type": "code",
   "execution_count": 19,
   "id": "tracked-alabama",
   "metadata": {},
   "outputs": [
    {
     "name": "stdout",
     "output_type": "stream",
     "text": [
      "1\n",
      "ABC\n",
      "[1, 2]\n",
      "[2, 3]\n"
     ]
    }
   ],
   "source": [
    "print(a[0])\n",
    "print(a[-1])\n",
    "print(a[0:2])\n",
    "print(a[-3:-1])"
   ]
  },
  {
   "cell_type": "code",
   "execution_count": 20,
   "id": "hindu-cemetery",
   "metadata": {},
   "outputs": [
    {
     "name": "stdout",
     "output_type": "stream",
     "text": [
      "0 . 1\n",
      "1 . 2\n",
      "2 . 3\n",
      "3 . ABC\n"
     ]
    }
   ],
   "source": [
    "for i in range(len(a)):\n",
    "    print(i,\".\",a[i])"
   ]
  },
  {
   "cell_type": "code",
   "execution_count": 21,
   "id": "civilian-christianity",
   "metadata": {},
   "outputs": [
    {
     "name": "stdout",
     "output_type": "stream",
     "text": [
      "[1, 2, 5, 'ABC']\n"
     ]
    }
   ],
   "source": [
    "a[2]=5\n",
    "print(a)"
   ]
  },
  {
   "cell_type": "code",
   "execution_count": 22,
   "id": "continental-connectivity",
   "metadata": {},
   "outputs": [
    {
     "name": "stdout",
     "output_type": "stream",
     "text": [
      "[1, 10, 5, 'ABC']\n"
     ]
    }
   ],
   "source": [
    "a[1]=10\n",
    "print(a)"
   ]
  },
  {
   "cell_type": "code",
   "execution_count": 23,
   "id": "extra-giant",
   "metadata": {},
   "outputs": [
    {
     "name": "stdout",
     "output_type": "stream",
     "text": [
      "[1, 2, 3, 'ABC', 'DEF']\n",
      "5\n"
     ]
    }
   ],
   "source": [
    "a=[1,2,3,\"ABC\",\"DEF\"]\n",
    "print(a)\n",
    "print(len(a))"
   ]
  },
  {
   "cell_type": "code",
   "execution_count": 24,
   "id": "enormous-watson",
   "metadata": {},
   "outputs": [
    {
     "name": "stdout",
     "output_type": "stream",
     "text": [
      "[1, 2, 3, 'ABC', 'DEF', 10]\n",
      "6\n"
     ]
    }
   ],
   "source": [
    "a.append(10)\n",
    "print(a)\n",
    "print(len(a))"
   ]
  },
  {
   "cell_type": "code",
   "execution_count": 25,
   "id": "attached-angel",
   "metadata": {},
   "outputs": [
    {
     "name": "stdout",
     "output_type": "stream",
     "text": [
      "[1, 2, 3, 'ABC', 'DEF', 10, ['ABC', 5]]\n",
      "7\n"
     ]
    }
   ],
   "source": [
    "a.append([\"ABC\",5]) # for appending multiple value we must mention it in a list\n",
    "print(a)\n",
    "print(len(a))"
   ]
  },
  {
   "cell_type": "code",
   "execution_count": 26,
   "id": "recognized-worth",
   "metadata": {},
   "outputs": [
    {
     "name": "stdout",
     "output_type": "stream",
     "text": [
      "[1, 2, 3, 'ABC', 'DEF', 10, ['ABC', 5], 'A', 'B', 'C', 'XYZ', 'PQR']\n",
      "12\n"
     ]
    }
   ],
   "source": [
    "a.extend(\"ABC\") # will treat each alphabet individually0\n",
    "a.extend([\"XYZ\",\"PQR\"])\n",
    "print(a)\n",
    "print(len(a))"
   ]
  },
  {
   "cell_type": "code",
   "execution_count": 27,
   "id": "dynamic-payment",
   "metadata": {},
   "outputs": [
    {
     "name": "stdout",
     "output_type": "stream",
     "text": [
      "[1, 2, 'AAA', 3, 'ABC', 'DEF', 10, ['ABC', 5], 'A', 'B', 'C', 'XYZ', 'PQR']\n",
      "13\n"
     ]
    }
   ],
   "source": [
    "a.insert(2,\"AAA\")\n",
    "print(a)\n",
    "print(len(a))"
   ]
  },
  {
   "cell_type": "code",
   "execution_count": 28,
   "id": "refined-booking",
   "metadata": {},
   "outputs": [
    {
     "name": "stdout",
     "output_type": "stream",
     "text": [
      "after popping with no parameters ['ABC', 1, 2, 'DEF']\n"
     ]
    }
   ],
   "source": [
    "a=[\"ABC\",1,2,\"DEF\",\"abc\"]\n",
    "\n",
    "b=a.pop() # On index only\n",
    "print(\"after popping with no parameters\",a)\n",
    "#[\"ABC\",1,2,\"DEF\"]"
   ]
  },
  {
   "cell_type": "code",
   "execution_count": 29,
   "id": "unable-series",
   "metadata": {},
   "outputs": [
    {
     "name": "stdout",
     "output_type": "stream",
     "text": [
      "after popping with parameter [1, 2, 'DEF']\n"
     ]
    }
   ],
   "source": [
    "c=a.pop(0) # On index only\n",
    "print(\"after popping with parameter\",a)\n",
    "#[1,2,\"DEF\"]"
   ]
  },
  {
   "cell_type": "code",
   "execution_count": 30,
   "id": "handy-cooperative",
   "metadata": {},
   "outputs": [
    {
     "name": "stdout",
     "output_type": "stream",
     "text": [
      "After removing by passing index [1, 'DEF']\n"
     ]
    }
   ],
   "source": [
    "d=a.remove(2) # On string only\n",
    "print(\"After removing by passing index\",a)\n",
    "#[1,\"DEF\"]"
   ]
  },
  {
   "cell_type": "code",
   "execution_count": 31,
   "id": "another-obligation",
   "metadata": {},
   "outputs": [
    {
     "name": "stdout",
     "output_type": "stream",
     "text": [
      "After deleting [1]\n"
     ]
    }
   ],
   "source": [
    "del a[1] # On index only\n",
    "print(\"After deleting\",a)\n",
    "#[1]"
   ]
  },
  {
   "cell_type": "code",
   "execution_count": 32,
   "id": "differential-vault",
   "metadata": {},
   "outputs": [
    {
     "name": "stdout",
     "output_type": "stream",
     "text": [
      "14\n"
     ]
    }
   ],
   "source": [
    "a=[1,2,3,0,-1,-5,0,2,57,7,0,8,7,25]\n",
    "print(len(a))"
   ]
  },
  {
   "cell_type": "code",
   "execution_count": 33,
   "id": "stuffed-numbers",
   "metadata": {},
   "outputs": [
    {
     "name": "stdout",
     "output_type": "stream",
     "text": [
      "-5\n"
     ]
    }
   ],
   "source": [
    "print(min(a))"
   ]
  },
  {
   "cell_type": "code",
   "execution_count": 34,
   "id": "obvious-hamburg",
   "metadata": {},
   "outputs": [
    {
     "name": "stdout",
     "output_type": "stream",
     "text": [
      "57\n"
     ]
    }
   ],
   "source": [
    "print(max(a))"
   ]
  },
  {
   "cell_type": "code",
   "execution_count": 35,
   "id": "bearing-period",
   "metadata": {},
   "outputs": [
    {
     "name": "stdout",
     "output_type": "stream",
     "text": [
      "[25, 7, 8, 0, 7, 57, 2, 0, -5, -1, 0, 3, 2, 1]\n"
     ]
    }
   ],
   "source": [
    "reverse=a[::-1]\n",
    "print(reverse)"
   ]
  },
  {
   "cell_type": "code",
   "execution_count": 36,
   "id": "scientific-concrete",
   "metadata": {},
   "outputs": [
    {
     "name": "stdout",
     "output_type": "stream",
     "text": [
      "[-5, -1, 0, 0, 0, 1, 2, 2, 3, 7, 7, 8, 25, 57]\n"
     ]
    }
   ],
   "source": [
    "sort=sorted(a)\n",
    "print(sort)"
   ]
  },
  {
   "cell_type": "code",
   "execution_count": 37,
   "id": "improved-strain",
   "metadata": {},
   "outputs": [
    {
     "name": "stdout",
     "output_type": "stream",
     "text": [
      "3\n"
     ]
    }
   ],
   "source": [
    "x=a.count(0)\n",
    "print(x)"
   ]
  },
  {
   "cell_type": "markdown",
   "id": "western-interstate",
   "metadata": {},
   "source": [
    "# Dictionary"
   ]
  },
  {
   "cell_type": "code",
   "execution_count": 38,
   "id": "chicken-slovenia",
   "metadata": {},
   "outputs": [
    {
     "name": "stdout",
     "output_type": "stream",
     "text": [
      "{1: 'ABC', 'A': 'DEF', (1, 2, 3): [1, 2, 3], 2: 'XYZ'}\n",
      "<class 'dict'>\n",
      "4\n"
     ]
    }
   ],
   "source": [
    "a={1:'ABC','A':\"DEF\",(1,2,3):[1,2,3],2:\"XYZ\"}\n",
    "print(a)\n",
    "print(type(a))\n",
    "print(len(a))"
   ]
  },
  {
   "cell_type": "code",
   "execution_count": 39,
   "id": "thrown-pastor",
   "metadata": {},
   "outputs": [
    {
     "name": "stdout",
     "output_type": "stream",
     "text": [
      "{1: 'a', 2: 'b', 3: 'c', 4: 'd', 5: 'e', 6: 'f'}\n"
     ]
    }
   ],
   "source": [
    "a={1:\"a\",2:\"b\",3:\"c\",4:\"d\",5:\"e\",6:\"f\"}\n",
    "print(a)"
   ]
  },
  {
   "cell_type": "code",
   "execution_count": 40,
   "id": "adaptive-franchise",
   "metadata": {},
   "outputs": [
    {
     "name": "stdout",
     "output_type": "stream",
     "text": [
      "{1: 'a', 2: 'b', 3: 'c', 4: 'd', 5: 'e', 6: 'f', 7: 'g'}\n"
     ]
    }
   ],
   "source": [
    "# By assigning method similiar to update\n",
    "a[7]=\"g\"\n",
    "print(a)"
   ]
  },
  {
   "cell_type": "code",
   "execution_count": 41,
   "id": "interested-proportion",
   "metadata": {},
   "outputs": [
    {
     "name": "stdout",
     "output_type": "stream",
     "text": [
      "{1: 'a', 2: 'b', 3: 'c', 4: 'd', 5: 'e', 6: 'f', 7: 'g', 8: 'h', 9: 'i', 10: 'j'}\n"
     ]
    }
   ],
   "source": [
    "a.update({8:\"h\",9:\"i\",10:\"j\"})\n",
    "print(a)"
   ]
  },
  {
   "cell_type": "code",
   "execution_count": 42,
   "id": "wound-benefit",
   "metadata": {},
   "outputs": [
    {
     "name": "stdout",
     "output_type": "stream",
     "text": [
      "ABC\n",
      "JKL\n"
     ]
    }
   ],
   "source": [
    "a={1:\"ABC\",2:\"DEF\",3:\"GHI\",4:\"JKL\"}\n",
    "print(a[1])\n",
    "print(a[4])"
   ]
  },
  {
   "cell_type": "code",
   "execution_count": 43,
   "id": "addressed-tunisia",
   "metadata": {},
   "outputs": [
    {
     "name": "stdout",
     "output_type": "stream",
     "text": [
      "2\n",
      "JKL\n"
     ]
    }
   ],
   "source": [
    "# list of dictionary\n",
    "a=[{1:\"ABC\",2: \"DEF\",3: \"GHI\"},{4 :\"JKL\",5:\"MNO\",6:\"PQR\"}]\n",
    "print(len(a))\n",
    "print(a[1][4])"
   ]
  },
  {
   "cell_type": "code",
   "execution_count": 44,
   "id": "sitting-offering",
   "metadata": {},
   "outputs": [
    {
     "name": "stdout",
     "output_type": "stream",
     "text": [
      "{1: 'a', 3: 'c', 4: 'd', 5: 'e', 6: 'f'}\n"
     ]
    }
   ],
   "source": [
    "a={1: 'a', 2: 'b', 3: 'c', 4: 'd', 5: 'e', 6: 'f'}\n",
    "del a[2] \n",
    "print(a)"
   ]
  },
  {
   "cell_type": "code",
   "execution_count": 45,
   "id": "sharp-equality",
   "metadata": {},
   "outputs": [
    {
     "name": "stdout",
     "output_type": "stream",
     "text": [
      "{1: 'a', 4: 'd', 5: 'e', 6: 'f'}\n"
     ]
    }
   ],
   "source": [
    "#by pop method \n",
    "# it is necessary to write key value \n",
    "a.pop(3)\n",
    "print(a)"
   ]
  },
  {
   "cell_type": "code",
   "execution_count": 46,
   "id": "shared-project",
   "metadata": {},
   "outputs": [
    {
     "name": "stdout",
     "output_type": "stream",
     "text": [
      "{1: 'a', 4: 'd', 5: 'e'}\n"
     ]
    }
   ],
   "source": [
    "# popitem deletes the last item\n",
    "# And no argument is required in it..\n",
    "a.popitem()\n",
    "print(a)"
   ]
  },
  {
   "cell_type": "code",
   "execution_count": 47,
   "id": "honey-accreditation",
   "metadata": {},
   "outputs": [],
   "source": [
    "keys=list(a.keys())\n",
    "values=list(a.values())"
   ]
  },
  {
   "cell_type": "code",
   "execution_count": 48,
   "id": "reasonable-grave",
   "metadata": {},
   "outputs": [
    {
     "name": "stdout",
     "output_type": "stream",
     "text": [
      "[1, 4, 5]\n"
     ]
    }
   ],
   "source": [
    "print(keys)"
   ]
  },
  {
   "cell_type": "code",
   "execution_count": 49,
   "id": "whole-great",
   "metadata": {},
   "outputs": [
    {
     "name": "stdout",
     "output_type": "stream",
     "text": [
      "['a', 'd', 'e']\n"
     ]
    }
   ],
   "source": [
    "print(values)"
   ]
  },
  {
   "cell_type": "markdown",
   "id": "english-wesley",
   "metadata": {},
   "source": [
    "# Numpy"
   ]
  },
  {
   "cell_type": "code",
   "execution_count": 50,
   "id": "legislative-findings",
   "metadata": {},
   "outputs": [
    {
     "name": "stdout",
     "output_type": "stream",
     "text": [
      "1.19.2\n"
     ]
    }
   ],
   "source": [
    "import numpy as np\n",
    "print(np.__version__)"
   ]
  },
  {
   "cell_type": "code",
   "execution_count": 51,
   "id": "distinct-scratch",
   "metadata": {},
   "outputs": [
    {
     "name": "stdout",
     "output_type": "stream",
     "text": [
      "2\n",
      "[3]\n"
     ]
    }
   ],
   "source": [
    "import numpy as np\n",
    "a=np.array([1,2,3])\n",
    "print(a[1])\n",
    "print(a[2:])"
   ]
  },
  {
   "cell_type": "code",
   "execution_count": 52,
   "id": "activated-wrapping",
   "metadata": {},
   "outputs": [
    {
     "name": "stdout",
     "output_type": "stream",
     "text": [
      "14\n"
     ]
    }
   ],
   "source": [
    "# dot product\n",
    "import numpy as np\n",
    "a=np.array([1,2,3])\n",
    "b=np.array([1,2,3])\n",
    "c=np.dot(a,b)\n",
    "print(c)"
   ]
  },
  {
   "cell_type": "code",
   "execution_count": 53,
   "id": "smaller-rochester",
   "metadata": {},
   "outputs": [
    {
     "name": "stdout",
     "output_type": "stream",
     "text": [
      "[ 2  4  6  8 10]\n"
     ]
    }
   ],
   "source": [
    "import numpy as np\n",
    "#  adding 2 arrays\n",
    "l1=np.array([1,2,3,4,5])\n",
    "l2=np.array([1,2,3,4,5])\n",
    "lout=l1+l2\n",
    "print(lout)"
   ]
  },
  {
   "cell_type": "code",
   "execution_count": 54,
   "id": "colored-strap",
   "metadata": {},
   "outputs": [
    {
     "name": "stdout",
     "output_type": "stream",
     "text": [
      "[0.1 0.2 0.3 0.4 0.5 0.6]\n"
     ]
    }
   ],
   "source": [
    "# division of numpy array \n",
    "import numpy as np\n",
    "a=np.array([1,2,3,4,5,6])\n",
    "a=a/10  # Used only for array \n",
    "print(a)"
   ]
  },
  {
   "cell_type": "code",
   "execution_count": 55,
   "id": "streaming-definition",
   "metadata": {},
   "outputs": [
    {
     "name": "stdout",
     "output_type": "stream",
     "text": [
      "[ 5 10 15 20 25 30]\n"
     ]
    }
   ],
   "source": [
    "# Multiplication in array.\n",
    "import numpy as np\n",
    "a=np.array([1,2,3,4,5,6])\n",
    "a=a*5  # Used only for array \n",
    "print(a)"
   ]
  },
  {
   "cell_type": "code",
   "execution_count": 56,
   "id": "foster-quebec",
   "metadata": {},
   "outputs": [
    {
     "name": "stdout",
     "output_type": "stream",
     "text": [
      "['hello' 'world']\n",
      "<class 'numpy.ndarray'>\n",
      "2\n",
      "1\n",
      "(2,)\n",
      "20\n"
     ]
    }
   ],
   "source": [
    "# numpy with strings\n",
    "a=np.array([\"hello\",\"world\"])\n",
    "print(a)\n",
    "print(type(a))\n",
    "print(a.size)\n",
    "print(a.ndim)\n",
    "print(a.shape)\n",
    "print(a.itemsize)"
   ]
  },
  {
   "cell_type": "code",
   "execution_count": 57,
   "id": "caring-worth",
   "metadata": {},
   "outputs": [
    {
     "name": "stdout",
     "output_type": "stream",
     "text": [
      "[  1.1   2.5  36.5 100.1]\n",
      "<class 'numpy.ndarray'>\n",
      "4\n",
      "1\n",
      "(4,)\n",
      "8\n"
     ]
    }
   ],
   "source": [
    "# numpy with float\n",
    "import numpy as np\n",
    "a=np.array([1.1,2.5,36.5,100.1])\n",
    "print(a)\n",
    "print(type(a))\n",
    "print(a.size)\n",
    "print(a.ndim)\n",
    "print(a.shape)\n",
    "print(a.itemsize)"
   ]
  },
  {
   "cell_type": "code",
   "execution_count": 58,
   "id": "scenic-balloon",
   "metadata": {},
   "outputs": [
    {
     "name": "stdout",
     "output_type": "stream",
     "text": [
      "[1 2 3 4 5]\n",
      "5\n",
      "<class 'numpy.ndarray'>\n",
      "5\n",
      "1\n",
      "int32\n",
      "(5,)\n",
      "4\n"
     ]
    }
   ],
   "source": [
    "# numpy with int\n",
    "import numpy as np\n",
    "\n",
    "a=np.array([1,2,3,4,5])\n",
    "print (a)\n",
    "print(len(a))   # For length\n",
    "print(type(a)) # For Type\n",
    "\n",
    "print(a.size) # For size\n",
    "print(a.ndim) #For dimensions\n",
    "print(a.dtype) # For displaying data Types\n",
    "print(a.shape) # For Displaying Shape in the form of Rows and colummns(Rows,Col)\n",
    "print(a.itemsize) # for displaying the size of single element in the array"
   ]
  },
  {
   "cell_type": "code",
   "execution_count": 59,
   "id": "lesser-commerce",
   "metadata": {},
   "outputs": [
    {
     "data": {
      "text/plain": [
       "array([[0., 0., 0., 0., 0.],\n",
       "       [0., 0., 0., 0., 0.],\n",
       "       [0., 0., 0., 0., 0.],\n",
       "       [0., 0., 0., 0., 0.],\n",
       "       [0., 0., 0., 0., 0.]])"
      ]
     },
     "execution_count": 59,
     "metadata": {},
     "output_type": "execute_result"
    }
   ],
   "source": [
    "# creating zeros array\n",
    "np.zeros((5,5))"
   ]
  },
  {
   "cell_type": "code",
   "execution_count": 60,
   "id": "experienced-buffer",
   "metadata": {},
   "outputs": [
    {
     "data": {
      "text/plain": [
       "array([[0., 0., 0.],\n",
       "       [0., 0., 0.],\n",
       "       [0., 0., 0.]])"
      ]
     },
     "execution_count": 60,
     "metadata": {},
     "output_type": "execute_result"
    }
   ],
   "source": [
    "# creating ones array\n",
    "np.zeros((3,3))"
   ]
  },
  {
   "cell_type": "code",
   "execution_count": 61,
   "id": "supported-residence",
   "metadata": {},
   "outputs": [
    {
     "name": "stdout",
     "output_type": "stream",
     "text": [
      "[[1 2 3]\n",
      " [4 5 6]]\n"
     ]
    }
   ],
   "source": [
    "# creating 2d array\n",
    "import numpy as np\n",
    "a = np.array([[1,2,3],[4,5,6]])\n",
    "print(a)"
   ]
  },
  {
   "cell_type": "code",
   "execution_count": 62,
   "id": "respiratory-acrobat",
   "metadata": {},
   "outputs": [
    {
     "name": "stdout",
     "output_type": "stream",
     "text": [
      "(2, 3)\n"
     ]
    }
   ],
   "source": [
    "print(a.shape)"
   ]
  },
  {
   "cell_type": "code",
   "execution_count": 63,
   "id": "identical-clause",
   "metadata": {},
   "outputs": [
    {
     "name": "stdout",
     "output_type": "stream",
     "text": [
      "2\n"
     ]
    }
   ],
   "source": [
    "print(a.ndim)"
   ]
  },
  {
   "cell_type": "code",
   "execution_count": 64,
   "id": "funded-domestic",
   "metadata": {},
   "outputs": [
    {
     "name": "stdout",
     "output_type": "stream",
     "text": [
      "[[[ 1  2  3]\n",
      "  [ 4  5  6]]\n",
      "\n",
      " [[ 7  8  9]\n",
      "  [10 11 12]]]\n"
     ]
    }
   ],
   "source": [
    "#  creating 3-d array\n",
    "import numpy as np\n",
    "a = np.array([[[1, 2, 3], [4, 5, 6]], [[7,8,9], [10,11,12]]])\n",
    "print(a)"
   ]
  },
  {
   "cell_type": "code",
   "execution_count": 65,
   "id": "talented-corporation",
   "metadata": {},
   "outputs": [
    {
     "name": "stdout",
     "output_type": "stream",
     "text": [
      "(2, 2, 3)\n"
     ]
    }
   ],
   "source": [
    "print(a.shape)"
   ]
  },
  {
   "cell_type": "code",
   "execution_count": 66,
   "id": "emotional-footwear",
   "metadata": {},
   "outputs": [
    {
     "name": "stdout",
     "output_type": "stream",
     "text": [
      "3\n"
     ]
    }
   ],
   "source": [
    "print(a.ndim)"
   ]
  },
  {
   "cell_type": "code",
   "execution_count": 67,
   "id": "democratic-notice",
   "metadata": {},
   "outputs": [
    {
     "name": "stdout",
     "output_type": "stream",
     "text": [
      "[  28   99 1256  156  564   45 8723   12  564   86  123   21]\n"
     ]
    }
   ],
   "source": [
    "import numpy as np\n",
    "a = np.array([28,99,1256,156,564,45,8723,12,564,86,123,21])\n",
    "print(a)\n"
   ]
  },
  {
   "cell_type": "code",
   "execution_count": 68,
   "id": "special-joseph",
   "metadata": {},
   "outputs": [
    {
     "name": "stdout",
     "output_type": "stream",
     "text": [
      "[[  28   99 1256]\n",
      " [ 156  564   45]\n",
      " [8723   12  564]\n",
      " [  86  123   21]]\n"
     ]
    }
   ],
   "source": [
    "a= a.reshape(4, 3)\n",
    "print(a)"
   ]
  },
  {
   "cell_type": "code",
   "execution_count": 69,
   "id": "latter-sight",
   "metadata": {},
   "outputs": [
    {
     "name": "stdout",
     "output_type": "stream",
     "text": [
      "[  28   99 1256  156  564   45 8723   12  564   86  123   21]\n"
     ]
    }
   ],
   "source": [
    "import numpy as np\n",
    "a = np.array([28,99,1256,156,564,45,8723,12,564,86,123,21])\n",
    "print(a)"
   ]
  },
  {
   "cell_type": "code",
   "execution_count": 70,
   "id": "quantitative-mystery",
   "metadata": {},
   "outputs": [
    {
     "name": "stdout",
     "output_type": "stream",
     "text": [
      "[[[  28   99]\n",
      "  [1256  156]\n",
      "  [ 564   45]]\n",
      "\n",
      " [[8723   12]\n",
      "  [ 564   86]\n",
      "  [ 123   21]]]\n"
     ]
    }
   ],
   "source": [
    "a = a.reshape(2, 3, 2)\n",
    "print(a)"
   ]
  },
  {
   "cell_type": "code",
   "execution_count": 71,
   "id": "backed-tamil",
   "metadata": {},
   "outputs": [
    {
     "name": "stdout",
     "output_type": "stream",
     "text": [
      "[[1 2 3]\n",
      " [4 5 6]]\n"
     ]
    }
   ],
   "source": [
    "import numpy as np\n",
    "a = np.array([[1, 2, 3], [4, 5, 6]])\n",
    "print(a)"
   ]
  },
  {
   "cell_type": "code",
   "execution_count": 72,
   "id": "sudden-scale",
   "metadata": {},
   "outputs": [
    {
     "name": "stdout",
     "output_type": "stream",
     "text": [
      "[1 2 3 4 5 6]\n"
     ]
    }
   ],
   "source": [
    "a = a.reshape(-1)\n",
    "print(a)"
   ]
  },
  {
   "cell_type": "code",
   "execution_count": 73,
   "id": "tight-warren",
   "metadata": {},
   "outputs": [
    {
     "name": "stdout",
     "output_type": "stream",
     "text": [
      "[1 2 3 4 5 6]\n"
     ]
    }
   ],
   "source": [
    "# concatenating 2 arrays\n",
    "import numpy as np\n",
    "a1 = np.array([1, 2, 3])\n",
    "a2 = np.array([4, 5, 6])\n",
    "a3 = np.concatenate((a1, a2))\n",
    "print(a3)"
   ]
  },
  {
   "cell_type": "code",
   "execution_count": 74,
   "id": "cordless-pathology",
   "metadata": {},
   "outputs": [
    {
     "name": "stdout",
     "output_type": "stream",
     "text": [
      "[[1 4]\n",
      " [2 5]\n",
      " [3 6]]\n"
     ]
    }
   ],
   "source": [
    "# stacking 2 arrays\n",
    "import numpy as np\n",
    "a1 = np.array([1, 2, 3])\n",
    "a2 = np.array([4, 5, 6])\n",
    "a3 = np.stack((a1, a2),axis=1)\n",
    "print(a3)"
   ]
  },
  {
   "cell_type": "code",
   "execution_count": 75,
   "id": "hawaiian-fiber",
   "metadata": {},
   "outputs": [
    {
     "name": "stdout",
     "output_type": "stream",
     "text": [
      "[[1 2 3]\n",
      " [4 5 6]]\n"
     ]
    }
   ],
   "source": [
    "# transpose\n",
    "print(a3.transpose())"
   ]
  },
  {
   "cell_type": "markdown",
   "id": "centered-conservation",
   "metadata": {},
   "source": [
    "# Pandas"
   ]
  },
  {
   "cell_type": "code",
   "execution_count": 76,
   "id": "threatened-guidance",
   "metadata": {},
   "outputs": [
    {
     "name": "stdout",
     "output_type": "stream",
     "text": [
      "0    1\n",
      "1    2\n",
      "2    3\n",
      "3    4\n",
      "4    5\n",
      "dtype: int32\n",
      "<class 'pandas.core.series.Series'>\n"
     ]
    }
   ],
   "source": [
    "import numpy as np\n",
    "import pandas as pd\n",
    "a=np.array([1,2,3,4,5])\n",
    "a=pd.Series(a)\n",
    "print(a)\n",
    "print(type(a))"
   ]
  },
  {
   "cell_type": "code",
   "execution_count": 77,
   "id": "resident-stroke",
   "metadata": {},
   "outputs": [
    {
     "name": "stdout",
     "output_type": "stream",
     "text": [
      "0    Hello\n",
      "1    world\n",
      "2        1\n",
      "3        2\n",
      "4        3\n",
      "dtype: object\n",
      "<class 'pandas.core.series.Series'>\n"
     ]
    }
   ],
   "source": [
    "# creating a series\n",
    "a=np.array([\"Hello\",\"world\",\"1\",2,3])\n",
    "a=pd.Series(a)\n",
    "print(a)\n",
    "print(type(a))"
   ]
  },
  {
   "cell_type": "code",
   "execution_count": 78,
   "id": "amazing-accident",
   "metadata": {},
   "outputs": [
    {
     "name": "stdout",
     "output_type": "stream",
     "text": [
      "101    Hello\n",
      "102    world\n",
      "103        1\n",
      "104        2\n",
      "105        3\n",
      "dtype: object\n",
      "<class 'pandas.core.series.Series'>\n"
     ]
    }
   ],
   "source": [
    "# change of index\n",
    "import numpy as np\n",
    "import pandas as pd\n",
    "a=np.array([\"Hello\",\"world\",\"1\",2,3])\n",
    "a=pd.Series(a,index=[101,102,103,104,105])\n",
    "print(a)\n",
    "print(type(a))"
   ]
  },
  {
   "cell_type": "code",
   "execution_count": 79,
   "id": "verbal-counter",
   "metadata": {
    "scrolled": true
   },
   "outputs": [
    {
     "name": "stdout",
     "output_type": "stream",
     "text": [
      "[100, 101, 102, 103, 104]\n",
      "100    Hello\n",
      "101    world\n",
      "102        1\n",
      "103        2\n",
      "104        3\n",
      "dtype: object\n"
     ]
    }
   ],
   "source": [
    "import numpy as np\n",
    "import pandas as pd\n",
    "newlis=[]\n",
    "for i in range(len(a)):\n",
    "    newlis.append(i+100)\n",
    "print(newlis)\n",
    "print(pd.Series([\"Hello\",\"world\",1,2,3],index=newlis))"
   ]
  },
  {
   "cell_type": "code",
   "execution_count": 80,
   "id": "lasting-recipe",
   "metadata": {},
   "outputs": [
    {
     "name": "stdout",
     "output_type": "stream",
     "text": [
      "A    100\n",
      "B    200\n",
      "dtype: int64\n"
     ]
    }
   ],
   "source": [
    "# printing dictionary using pandas series\n",
    "import pandas as pd\n",
    "print(pd.Series({\"A\":100,\"B\":200}))"
   ]
  },
  {
   "cell_type": "code",
   "execution_count": 81,
   "id": "sustainable-summit",
   "metadata": {},
   "outputs": [
    {
     "name": "stdout",
     "output_type": "stream",
     "text": [
      "1    10\n",
      "2    10\n",
      "3    10\n",
      "4    10\n",
      "dtype: int64\n"
     ]
    }
   ],
   "source": [
    "# using same values but multiple index\n",
    "print(pd.Series(10,index=[1,2,3,4]))"
   ]
  },
  {
   "cell_type": "code",
   "execution_count": 82,
   "id": "universal-female",
   "metadata": {},
   "outputs": [
    {
     "name": "stdout",
     "output_type": "stream",
     "text": [
      "   0\n",
      "0  1\n",
      "1  2\n",
      "2  3\n",
      "3  4\n",
      "4  5\n",
      "5  6\n",
      "6  7\n",
      "<class 'pandas.core.frame.DataFrame'>\n"
     ]
    }
   ],
   "source": [
    "# Creating a dataframe\n",
    "import pandas as pd\n",
    "lis=[1,2,3,4,5,6,7]\n",
    "a=pd.DataFrame(lis)\n",
    "print(a)\n",
    "print(type(a))"
   ]
  },
  {
   "cell_type": "code",
   "execution_count": 83,
   "id": "subtle-incentive",
   "metadata": {},
   "outputs": [
    {
     "name": "stdout",
     "output_type": "stream",
     "text": [
      "   Name  Number\n",
      "1  Per1     101\n",
      "2  Per2     102\n",
      "3  Per3     103\n"
     ]
    }
   ],
   "source": [
    "import pandas as pd\n",
    "a=[[\"Per1\",101],\n",
    "   [\"Per2\",102],\n",
    "   [\"Per3\",103]]\n",
    "b=pd.DataFrame(a,columns=[\"Name\",\"Number\"],index=[1,2,3])\n",
    "print(b)"
   ]
  },
  {
   "cell_type": "code",
   "execution_count": 84,
   "id": "postal-carnival",
   "metadata": {},
   "outputs": [
    {
     "name": "stdout",
     "output_type": "stream",
     "text": [
      "  Name  Number\n",
      "1   N1     101\n",
      "2   N2     102\n",
      "3   N3     103\n"
     ]
    }
   ],
   "source": [
    "# using list to create a dataframe\n",
    "import pandas as pd\n",
    "a={\"Name\":[\"N1\",\"N2\",\"N3\"],\n",
    "   \"Number\":[101,102,103]}\n",
    "b=pd.DataFrame(a,index=[1,2,3])\n",
    "print(b)"
   ]
  },
  {
   "cell_type": "code",
   "execution_count": 85,
   "id": "unsigned-struggle",
   "metadata": {},
   "outputs": [
    {
     "name": "stdout",
     "output_type": "stream",
     "text": [
      "   Name  Age\n",
      "1  Per1   50\n",
      "2  Per2   10\n",
      "3  Per3   40\n"
     ]
    }
   ],
   "source": [
    "# using dictionary to create a dataframe\n",
    "import pandas as pd\n",
    "a=[{\"Name\":\"Per1\",\"Age\":50},\n",
    "   {\"Name\":\"Per2\",\"Age\":10},\n",
    "   {\"Name\":\"Per3\",\"Age\":40}]\n",
    "print(pd.DataFrame(a,index=[1,2,3]))"
   ]
  },
  {
   "cell_type": "code",
   "execution_count": 86,
   "id": "driven-devil",
   "metadata": {},
   "outputs": [
    {
     "name": "stdout",
     "output_type": "stream",
     "text": [
      "   Name   ID\n",
      "0     1  101\n",
      "1     2  203\n",
      "2     3  405\n",
      "3     4  110\n",
      "4     5   36\n"
     ]
    }
   ],
   "source": [
    "# using series to create a dataframe\n",
    "import pandas as pd\n",
    "a={'Name':pd.Series([1,2,3,4,5]),\n",
    "\"ID\":pd.Series([101,203,405,110,36])}\n",
    "print(pd.DataFrame(a))"
   ]
  },
  {
   "cell_type": "code",
   "execution_count": 87,
   "id": "dominant-politics",
   "metadata": {},
   "outputs": [],
   "source": [
    "# storing dataframe into file\n",
    "import pandas as pd\n",
    "a=[{\"Name\":\"Per1\",\"Age\":50},\n",
    "   {\"Name\":\"Per2\",\"Age\":10},\n",
    "   {\"Name\":\"Per3\",\"Age\":40}]\n",
    "df=pd.DataFrame(a,index=[1,2,3])\n",
    "df.to_csv(\"data.csv\",index=False)\n",
    "df.to_json(\"data.json\")"
   ]
  },
  {
   "cell_type": "code",
   "execution_count": 88,
   "id": "developing-steering",
   "metadata": {},
   "outputs": [
    {
     "name": "stdout",
     "output_type": "stream",
     "text": [
      "   Name  Age\n",
      "0  Per1   50\n",
      "1  Per2   10\n",
      "2  Per3   40\n"
     ]
    }
   ],
   "source": [
    "# reading a file\n",
    "import pandas as pd\n",
    "data=pd.read_csv(\"data.csv\")\n",
    "print(pd.DataFrame(data))"
   ]
  },
  {
   "cell_type": "code",
   "execution_count": 89,
   "id": "adequate-glance",
   "metadata": {},
   "outputs": [
    {
     "name": "stdout",
     "output_type": "stream",
     "text": [
      "40\n",
      "Per2\n"
     ]
    }
   ],
   "source": [
    "# using iloc\n",
    "print(data.iloc[2,1])\n",
    "print(data.iloc[1,0])"
   ]
  },
  {
   "cell_type": "code",
   "execution_count": 90,
   "id": "threatened-underground",
   "metadata": {},
   "outputs": [
    {
     "name": "stdout",
     "output_type": "stream",
     "text": [
      "   Name  Age\n",
      "0  Per1   50\n",
      "1  Per2   10\n"
     ]
    }
   ],
   "source": [
    "a=data.loc[(data[\"Name\"]=='Per1')| (data[\"Age\"]==10)]\n",
    "print(a)"
   ]
  },
  {
   "cell_type": "code",
   "execution_count": 91,
   "id": "general-conjunction",
   "metadata": {},
   "outputs": [
    {
     "name": "stdout",
     "output_type": "stream",
     "text": [
      "Empty DataFrame\n",
      "Columns: [Name, Age]\n",
      "Index: []\n"
     ]
    }
   ],
   "source": [
    "a=data.loc[(data[\"Name\"]=='Per1') & (data[\"Age\"]==10)]\n",
    "print(a)"
   ]
  },
  {
   "cell_type": "code",
   "execution_count": 92,
   "id": "together-brick",
   "metadata": {},
   "outputs": [
    {
     "name": "stdout",
     "output_type": "stream",
     "text": [
      "   Name  Age\n",
      "0  Per1   50\n"
     ]
    }
   ],
   "source": [
    "a=data.loc[(data[\"Name\"]=='Per1') & (data[\"Age\"]==50)]\n",
    "print(a)"
   ]
  },
  {
   "cell_type": "code",
   "execution_count": 93,
   "id": "portuguese-literature",
   "metadata": {},
   "outputs": [
    {
     "name": "stdout",
     "output_type": "stream",
     "text": [
      "  Names of People  Age of people\n",
      "0            Per1             50\n"
     ]
    }
   ],
   "source": [
    "a=a.rename(columns={\"Name\":\"Names of People\",\"Age\":\"Age of people\"})\n",
    "print(a)"
   ]
  },
  {
   "cell_type": "code",
   "execution_count": 94,
   "id": "included-devices",
   "metadata": {},
   "outputs": [
    {
     "name": "stdout",
     "output_type": "stream",
     "text": [
      "     1    2\n",
      "1  101  201\n",
      "2  301  401\n",
      "2   11   21\n",
      "3   12   22\n",
      "4   13   23\n"
     ]
    }
   ],
   "source": [
    "import pandas as pd\n",
    "a=pd.DataFrame([[101,201],[301,401]],index=[1,2],columns=[1,2])\n",
    "b=pd.DataFrame([[11,21],[12,22],[13,23]],index=[2,3,4],columns=[1,2])\n",
    "c=a.append(b)\n",
    "print(c)"
   ]
  },
  {
   "cell_type": "code",
   "execution_count": 95,
   "id": "numerous-billion",
   "metadata": {},
   "outputs": [
    {
     "name": "stdout",
     "output_type": "stream",
     "text": [
      "       1      2     1     2\n",
      "1  101.0  201.0   NaN   NaN\n",
      "2  301.0  401.0  11.0  21.0\n",
      "3    NaN    NaN  12.0  22.0\n",
      "4    NaN    NaN  13.0  23.0\n"
     ]
    }
   ],
   "source": [
    "d=pd.concat([a,b],axis=1) # by-default axis is 0\n",
    "print(d)"
   ]
  },
  {
   "cell_type": "code",
   "execution_count": 96,
   "id": "extended-peoples",
   "metadata": {},
   "outputs": [
    {
     "name": "stdout",
     "output_type": "stream",
     "text": [
      "     1    2\n",
      "0  101  201\n",
      "1  301  401\n",
      "2   11   21\n",
      "3   12   22\n",
      "4   13   23\n"
     ]
    }
   ],
   "source": [
    "d=pd.concat([a.reset_index(drop=True),b])\n",
    "print(d)"
   ]
  },
  {
   "cell_type": "code",
   "execution_count": 97,
   "id": "affecting-channel",
   "metadata": {},
   "outputs": [
    {
     "data": {
      "text/html": [
       "<div>\n",
       "<style scoped>\n",
       "    .dataframe tbody tr th:only-of-type {\n",
       "        vertical-align: middle;\n",
       "    }\n",
       "\n",
       "    .dataframe tbody tr th {\n",
       "        vertical-align: top;\n",
       "    }\n",
       "\n",
       "    .dataframe thead th {\n",
       "        text-align: right;\n",
       "    }\n",
       "</style>\n",
       "<table border=\"1\" class=\"dataframe\">\n",
       "  <thead>\n",
       "    <tr style=\"text-align: right;\">\n",
       "      <th></th>\n",
       "      <th>A</th>\n",
       "      <th>B</th>\n",
       "      <th>c</th>\n",
       "    </tr>\n",
       "  </thead>\n",
       "  <tbody>\n",
       "    <tr>\n",
       "      <th>0</th>\n",
       "      <td>1</td>\n",
       "      <td>Gujarat</td>\n",
       "      <td>3</td>\n",
       "    </tr>\n",
       "    <tr>\n",
       "      <th>1</th>\n",
       "      <td>2</td>\n",
       "      <td>Maharastra</td>\n",
       "      <td>14</td>\n",
       "    </tr>\n",
       "    <tr>\n",
       "      <th>2</th>\n",
       "      <td>3</td>\n",
       "      <td>UP</td>\n",
       "      <td>12</td>\n",
       "    </tr>\n",
       "    <tr>\n",
       "      <th>3</th>\n",
       "      <td>4</td>\n",
       "      <td>Rajasthan</td>\n",
       "      <td>0</td>\n",
       "    </tr>\n",
       "    <tr>\n",
       "      <th>4</th>\n",
       "      <td>5</td>\n",
       "      <td>MP</td>\n",
       "      <td>18</td>\n",
       "    </tr>\n",
       "  </tbody>\n",
       "</table>\n",
       "</div>"
      ],
      "text/plain": [
       "   A           B   c\n",
       "0  1     Gujarat   3\n",
       "1  2  Maharastra  14\n",
       "2  3          UP  12\n",
       "3  4   Rajasthan   0\n",
       "4  5          MP  18"
      ]
     },
     "execution_count": 97,
     "metadata": {},
     "output_type": "execute_result"
    }
   ],
   "source": [
    "import pandas as pd\n",
    "import numpy as np\n",
    "\n",
    "df1=pd.DataFrame({\"A\":range(1,6),\n",
    "                  \"B\":[\"Gujarat\",\"Maharastra\",\"UP\",\"Rajasthan\",\"MP\"],\n",
    "                  \"c\":np.random.randint(0,25,size=5)}) # Here size refers to no of quantity \n",
    "df1\n"
   ]
  },
  {
   "cell_type": "code",
   "execution_count": 98,
   "id": "cellular-parish",
   "metadata": {},
   "outputs": [
    {
     "data": {
      "text/html": [
       "<div>\n",
       "<style scoped>\n",
       "    .dataframe tbody tr th:only-of-type {\n",
       "        vertical-align: middle;\n",
       "    }\n",
       "\n",
       "    .dataframe tbody tr th {\n",
       "        vertical-align: top;\n",
       "    }\n",
       "\n",
       "    .dataframe thead th {\n",
       "        text-align: right;\n",
       "    }\n",
       "</style>\n",
       "<table border=\"1\" class=\"dataframe\">\n",
       "  <thead>\n",
       "    <tr style=\"text-align: right;\">\n",
       "      <th></th>\n",
       "      <th>A</th>\n",
       "      <th>Product</th>\n",
       "    </tr>\n",
       "  </thead>\n",
       "  <tbody>\n",
       "    <tr>\n",
       "      <th>0</th>\n",
       "      <td>2</td>\n",
       "      <td>Medium</td>\n",
       "    </tr>\n",
       "    <tr>\n",
       "      <th>1</th>\n",
       "      <td>4</td>\n",
       "      <td>Low</td>\n",
       "    </tr>\n",
       "    <tr>\n",
       "      <th>2</th>\n",
       "      <td>5</td>\n",
       "      <td>High</td>\n",
       "    </tr>\n",
       "  </tbody>\n",
       "</table>\n",
       "</div>"
      ],
      "text/plain": [
       "   A Product\n",
       "0  2  Medium\n",
       "1  4     Low\n",
       "2  5    High"
      ]
     },
     "execution_count": 98,
     "metadata": {},
     "output_type": "execute_result"
    }
   ],
   "source": [
    "df2=pd.DataFrame([[2,\"Medium\"],[4,\"Low\"],[5,\"High\"]],columns=[\"A\",\"Product\"])\n",
    "df2"
   ]
  },
  {
   "cell_type": "code",
   "execution_count": 99,
   "id": "helpful-terminal",
   "metadata": {},
   "outputs": [
    {
     "name": "stdout",
     "output_type": "stream",
     "text": [
      "This acts like a join\n"
     ]
    },
    {
     "data": {
      "text/html": [
       "<div>\n",
       "<style scoped>\n",
       "    .dataframe tbody tr th:only-of-type {\n",
       "        vertical-align: middle;\n",
       "    }\n",
       "\n",
       "    .dataframe tbody tr th {\n",
       "        vertical-align: top;\n",
       "    }\n",
       "\n",
       "    .dataframe thead th {\n",
       "        text-align: right;\n",
       "    }\n",
       "</style>\n",
       "<table border=\"1\" class=\"dataframe\">\n",
       "  <thead>\n",
       "    <tr style=\"text-align: right;\">\n",
       "      <th></th>\n",
       "      <th>A</th>\n",
       "      <th>B</th>\n",
       "      <th>c</th>\n",
       "      <th>Product</th>\n",
       "    </tr>\n",
       "  </thead>\n",
       "  <tbody>\n",
       "    <tr>\n",
       "      <th>0</th>\n",
       "      <td>1</td>\n",
       "      <td>Gujarat</td>\n",
       "      <td>3</td>\n",
       "      <td>NaN</td>\n",
       "    </tr>\n",
       "    <tr>\n",
       "      <th>1</th>\n",
       "      <td>2</td>\n",
       "      <td>Maharastra</td>\n",
       "      <td>14</td>\n",
       "      <td>Medium</td>\n",
       "    </tr>\n",
       "    <tr>\n",
       "      <th>2</th>\n",
       "      <td>3</td>\n",
       "      <td>UP</td>\n",
       "      <td>12</td>\n",
       "      <td>NaN</td>\n",
       "    </tr>\n",
       "    <tr>\n",
       "      <th>3</th>\n",
       "      <td>4</td>\n",
       "      <td>Rajasthan</td>\n",
       "      <td>0</td>\n",
       "      <td>Low</td>\n",
       "    </tr>\n",
       "    <tr>\n",
       "      <th>4</th>\n",
       "      <td>5</td>\n",
       "      <td>MP</td>\n",
       "      <td>18</td>\n",
       "      <td>High</td>\n",
       "    </tr>\n",
       "  </tbody>\n",
       "</table>\n",
       "</div>"
      ],
      "text/plain": [
       "   A           B   c Product\n",
       "0  1     Gujarat   3     NaN\n",
       "1  2  Maharastra  14  Medium\n",
       "2  3          UP  12     NaN\n",
       "3  4   Rajasthan   0     Low\n",
       "4  5          MP  18    High"
      ]
     },
     "execution_count": 99,
     "metadata": {},
     "output_type": "execute_result"
    }
   ],
   "source": [
    "# Joins\n",
    "print(\"This acts like a join\")\n",
    "df=(df1.merge(df2,on=\"A\",how=\"left\"))\n",
    "df"
   ]
  },
  {
   "cell_type": "code",
   "execution_count": 100,
   "id": "enhanced-indonesian",
   "metadata": {},
   "outputs": [
    {
     "data": {
      "text/html": [
       "<div>\n",
       "<style scoped>\n",
       "    .dataframe tbody tr th:only-of-type {\n",
       "        vertical-align: middle;\n",
       "    }\n",
       "\n",
       "    .dataframe tbody tr th {\n",
       "        vertical-align: top;\n",
       "    }\n",
       "\n",
       "    .dataframe thead th {\n",
       "        text-align: right;\n",
       "    }\n",
       "</style>\n",
       "<table border=\"1\" class=\"dataframe\">\n",
       "  <thead>\n",
       "    <tr style=\"text-align: right;\">\n",
       "      <th></th>\n",
       "      <th>A</th>\n",
       "      <th>B</th>\n",
       "      <th>c</th>\n",
       "      <th>Product</th>\n",
       "    </tr>\n",
       "  </thead>\n",
       "  <tbody>\n",
       "    <tr>\n",
       "      <th>0</th>\n",
       "      <td>2</td>\n",
       "      <td>Maharastra</td>\n",
       "      <td>14</td>\n",
       "      <td>Medium</td>\n",
       "    </tr>\n",
       "    <tr>\n",
       "      <th>1</th>\n",
       "      <td>4</td>\n",
       "      <td>Rajasthan</td>\n",
       "      <td>0</td>\n",
       "      <td>Low</td>\n",
       "    </tr>\n",
       "    <tr>\n",
       "      <th>2</th>\n",
       "      <td>5</td>\n",
       "      <td>MP</td>\n",
       "      <td>18</td>\n",
       "      <td>High</td>\n",
       "    </tr>\n",
       "  </tbody>\n",
       "</table>\n",
       "</div>"
      ],
      "text/plain": [
       "   A           B   c Product\n",
       "0  2  Maharastra  14  Medium\n",
       "1  4   Rajasthan   0     Low\n",
       "2  5          MP  18    High"
      ]
     },
     "execution_count": 100,
     "metadata": {},
     "output_type": "execute_result"
    }
   ],
   "source": [
    "df=(df1.merge(df2,on=\"A\",how=\"right\"))\n",
    "df"
   ]
  },
  {
   "cell_type": "code",
   "execution_count": 101,
   "id": "careful-routine",
   "metadata": {},
   "outputs": [
    {
     "data": {
      "text/html": [
       "<div>\n",
       "<style scoped>\n",
       "    .dataframe tbody tr th:only-of-type {\n",
       "        vertical-align: middle;\n",
       "    }\n",
       "\n",
       "    .dataframe tbody tr th {\n",
       "        vertical-align: top;\n",
       "    }\n",
       "\n",
       "    .dataframe thead th {\n",
       "        text-align: right;\n",
       "    }\n",
       "</style>\n",
       "<table border=\"1\" class=\"dataframe\">\n",
       "  <thead>\n",
       "    <tr style=\"text-align: right;\">\n",
       "      <th></th>\n",
       "      <th>A</th>\n",
       "      <th>Product</th>\n",
       "      <th>B</th>\n",
       "      <th>c</th>\n",
       "    </tr>\n",
       "  </thead>\n",
       "  <tbody>\n",
       "    <tr>\n",
       "      <th>0</th>\n",
       "      <td>2</td>\n",
       "      <td>Medium</td>\n",
       "      <td>Maharastra</td>\n",
       "      <td>14</td>\n",
       "    </tr>\n",
       "    <tr>\n",
       "      <th>1</th>\n",
       "      <td>4</td>\n",
       "      <td>Low</td>\n",
       "      <td>Rajasthan</td>\n",
       "      <td>0</td>\n",
       "    </tr>\n",
       "    <tr>\n",
       "      <th>2</th>\n",
       "      <td>5</td>\n",
       "      <td>High</td>\n",
       "      <td>MP</td>\n",
       "      <td>18</td>\n",
       "    </tr>\n",
       "  </tbody>\n",
       "</table>\n",
       "</div>"
      ],
      "text/plain": [
       "   A Product           B   c\n",
       "0  2  Medium  Maharastra  14\n",
       "1  4     Low   Rajasthan   0\n",
       "2  5    High          MP  18"
      ]
     },
     "execution_count": 101,
     "metadata": {},
     "output_type": "execute_result"
    }
   ],
   "source": [
    "df=df2.merge(df1,on=\"A\",how=\"left\")\n",
    "df"
   ]
  },
  {
   "cell_type": "code",
   "execution_count": 102,
   "id": "lonely-raleigh",
   "metadata": {},
   "outputs": [
    {
     "data": {
      "text/html": [
       "<div>\n",
       "<style scoped>\n",
       "    .dataframe tbody tr th:only-of-type {\n",
       "        vertical-align: middle;\n",
       "    }\n",
       "\n",
       "    .dataframe tbody tr th {\n",
       "        vertical-align: top;\n",
       "    }\n",
       "\n",
       "    .dataframe thead th {\n",
       "        text-align: right;\n",
       "    }\n",
       "</style>\n",
       "<table border=\"1\" class=\"dataframe\">\n",
       "  <thead>\n",
       "    <tr style=\"text-align: right;\">\n",
       "      <th></th>\n",
       "      <th>col1</th>\n",
       "      <th>col2</th>\n",
       "      <th>col3</th>\n",
       "      <th>col4</th>\n",
       "    </tr>\n",
       "  </thead>\n",
       "  <tbody>\n",
       "    <tr>\n",
       "      <th>101</th>\n",
       "      <td>2</td>\n",
       "      <td>11</td>\n",
       "      <td>22.0</td>\n",
       "      <td>31.0</td>\n",
       "    </tr>\n",
       "    <tr>\n",
       "      <th>102</th>\n",
       "      <td>4</td>\n",
       "      <td>13</td>\n",
       "      <td>NaN</td>\n",
       "      <td>NaN</td>\n",
       "    </tr>\n",
       "    <tr>\n",
       "      <th>103</th>\n",
       "      <td>6</td>\n",
       "      <td>15</td>\n",
       "      <td>24.0</td>\n",
       "      <td>33.0</td>\n",
       "    </tr>\n",
       "    <tr>\n",
       "      <th>104</th>\n",
       "      <td>8</td>\n",
       "      <td>17</td>\n",
       "      <td>26.0</td>\n",
       "      <td>35.0</td>\n",
       "    </tr>\n",
       "  </tbody>\n",
       "</table>\n",
       "</div>"
      ],
      "text/plain": [
       "     col1  col2  col3  col4\n",
       "101     2    11  22.0  31.0\n",
       "102     4    13   NaN   NaN\n",
       "103     6    15  24.0  33.0\n",
       "104     8    17  26.0  35.0"
      ]
     },
     "execution_count": 102,
     "metadata": {},
     "output_type": "execute_result"
    }
   ],
   "source": [
    "import numpy as np\n",
    "import pandas as pd\n",
    "df1=pd.DataFrame({\"col1\":[2,4,6,8],\n",
    "     \"col2\":[11,13,15,17]},index=[101,102,103,104])\n",
    "df2=pd.DataFrame({\"col3\":[22,24,26,28],\n",
    "                  \"col4\":[31,33,35,37]},index=[101,103,104,105])\n",
    "df=df1.join(df2)\n",
    "df"
   ]
  },
  {
   "cell_type": "code",
   "execution_count": 103,
   "id": "reasonable-egyptian",
   "metadata": {},
   "outputs": [
    {
     "data": {
      "text/html": [
       "<div>\n",
       "<style scoped>\n",
       "    .dataframe tbody tr th:only-of-type {\n",
       "        vertical-align: middle;\n",
       "    }\n",
       "\n",
       "    .dataframe tbody tr th {\n",
       "        vertical-align: top;\n",
       "    }\n",
       "\n",
       "    .dataframe thead th {\n",
       "        text-align: right;\n",
       "    }\n",
       "</style>\n",
       "<table border=\"1\" class=\"dataframe\">\n",
       "  <thead>\n",
       "    <tr style=\"text-align: right;\">\n",
       "      <th></th>\n",
       "      <th>col3</th>\n",
       "      <th>col4</th>\n",
       "      <th>col1</th>\n",
       "      <th>col2</th>\n",
       "    </tr>\n",
       "  </thead>\n",
       "  <tbody>\n",
       "    <tr>\n",
       "      <th>101</th>\n",
       "      <td>22</td>\n",
       "      <td>31</td>\n",
       "      <td>2.0</td>\n",
       "      <td>11.0</td>\n",
       "    </tr>\n",
       "    <tr>\n",
       "      <th>103</th>\n",
       "      <td>24</td>\n",
       "      <td>33</td>\n",
       "      <td>6.0</td>\n",
       "      <td>15.0</td>\n",
       "    </tr>\n",
       "    <tr>\n",
       "      <th>104</th>\n",
       "      <td>26</td>\n",
       "      <td>35</td>\n",
       "      <td>8.0</td>\n",
       "      <td>17.0</td>\n",
       "    </tr>\n",
       "    <tr>\n",
       "      <th>105</th>\n",
       "      <td>28</td>\n",
       "      <td>37</td>\n",
       "      <td>NaN</td>\n",
       "      <td>NaN</td>\n",
       "    </tr>\n",
       "  </tbody>\n",
       "</table>\n",
       "</div>"
      ],
      "text/plain": [
       "     col3  col4  col1  col2\n",
       "101    22    31   2.0  11.0\n",
       "103    24    33   6.0  15.0\n",
       "104    26    35   8.0  17.0\n",
       "105    28    37   NaN   NaN"
      ]
     },
     "execution_count": 103,
     "metadata": {},
     "output_type": "execute_result"
    }
   ],
   "source": [
    "df=df2.join(df1)\n",
    "df"
   ]
  }
 ],
 "metadata": {
  "kernelspec": {
   "display_name": "Python 3",
   "language": "python",
   "name": "python3"
  },
  "language_info": {
   "codemirror_mode": {
    "name": "ipython",
    "version": 3
   },
   "file_extension": ".py",
   "mimetype": "text/x-python",
   "name": "python",
   "nbconvert_exporter": "python",
   "pygments_lexer": "ipython3",
   "version": "3.8.5"
  }
 },
 "nbformat": 4,
 "nbformat_minor": 5
}
